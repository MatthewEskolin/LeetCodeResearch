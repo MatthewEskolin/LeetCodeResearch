{
 "cells": [
  {
   "cell_type": "markdown",
   "metadata": {},
   "source": [
    "Given a string s, reverse the order of characters in each word within a sentence while still preserving whitespace and initial word order.\n",
    "\n",
    "### Example 1:\n",
    "\n",
    "Input: s = \"Let's take LeetCode contest\"\n",
    "Output: \"s'teL ekat edoCteeL tsetnoc\"\n",
    "\n",
    "### Example 2:\n",
    "\n",
    "Input: s = \"God Ding\"\n",
    "Output: \"doG gniD\"\n",
    "\n",
    "\n"
   ]
  },
  {
   "cell_type": "code",
   "execution_count": null,
   "metadata": {
    "dotnet_interactive": {
     "language": "csharp"
    }
   },
   "outputs": [
    {
     "data": {
      "text/plain": [
       "God Ding "
      ]
     },
     "metadata": {},
     "output_type": "display_data"
    }
   ],
   "source": [
    "public class Solution {\n",
    "    public string ReverseWords(string s) {\n",
    "        \n",
    "        var final = string.Empty;\n",
    "\n",
    "        //foreach word found, reverse it\n",
    "        var words = s.Split(\" \").ToList();;\n",
    "\n",
    "\n",
    "        foreach(var word in words)\n",
    "        {\n",
    "            var rword = word.Reverse();\n",
    "            final += rword + \" \";          \n",
    "        }\n",
    "\n",
    "        final.TrimEnd();\n",
    "        \n",
    "      \n",
    "        \n",
    "\n",
    "        return final;\n",
    "    }\n",
    "}\n",
    "\n",
    "var sol = new Solution();\n",
    "var string1 = \"God Ding\";\n",
    "\n",
    "var result = sol.ReverseWords(string1);\n",
    "result.Display();"
   ]
  }
 ],
 "metadata": {
  "kernelspec": {
   "display_name": ".NET (C#)",
   "language": "C#",
   "name": ".net-csharp"
  },
  "language_info": {
   "name": "C#"
  }
 },
 "nbformat": 4,
 "nbformat_minor": 2
}
