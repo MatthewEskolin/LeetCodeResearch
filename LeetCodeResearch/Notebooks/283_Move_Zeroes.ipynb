{
 "cells": [
  {
   "cell_type": "markdown",
   "metadata": {
    "dotnet_interactive": {
     "language": "csharp"
    }
   },
   "source": [
    "O(N) - Space Sub-Optimal"
   ]
  },
  {
   "cell_type": "code",
   "execution_count": null,
   "metadata": {
    "dotnet_interactive": {
     "language": "csharp"
    }
   },
   "outputs": [
    {
     "data": {
      "text/html": [
       "<table><thead><tr><th><i>index</i></th><th>value</th></tr></thead><tbody><tr><td>0</td><td><div class=\"dni-plaintext\">1</div></td></tr><tr><td>1</td><td><div class=\"dni-plaintext\">3</div></td></tr><tr><td>2</td><td><div class=\"dni-plaintext\">12</div></td></tr><tr><td>3</td><td><div class=\"dni-plaintext\">0</div></td></tr><tr><td>4</td><td><div class=\"dni-plaintext\">0</div></td></tr></tbody></table>"
      ]
     },
     "metadata": {},
     "output_type": "display_data"
    }
   ],
   "source": [
    "public static void MoveZeroes(int[] nums)\n",
    "{\n",
    "    //Input\n",
    "    //[0,1,0,3,12]\n",
    "    \n",
    "    //Expected Output\n",
    "    //[1,3,12,0,0]\n",
    "\n",
    "    //This Solution Creates a new Array/List and is Not Space Optimal\n",
    "    List<int> result = new List<int>();\n",
    "\n",
    "    //Count the Zeroes\n",
    "    var zeroCount = nums.Count(x => x == 0);\n",
    "\n",
    "    //add non-zeroes to begginning of list\n",
    "    for(int i = 0; i < nums.Length; i++){\n",
    "\n",
    "        if(nums[i] != 0)\n",
    "        {\n",
    "            result.Add(nums[i]);\n",
    "        }\n",
    "    }\n",
    "\n",
    "    //Add the zeros to the list\n",
    "    Repeat(zeroCount,() => result.Add(0));\n",
    "\n",
    "    //modify original array using new list\n",
    "    for(int j = 0; j < nums.Length; j++)\n",
    "    {\n",
    "        nums[j] = result[j];\n",
    "    }\n",
    "\n",
    "}       \n",
    "\n",
    "public static void Repeat(int repeatCount, Action action)\n",
    "{\n",
    "    for (int i = 0; i < repeatCount; i++)\n",
    "        action();\n",
    "}\n",
    "\n",
    "\n",
    "var myNums = new int[]{0,1,0,3,12};\n",
    "MoveZeroes(myNums);\n",
    "\n",
    "myNums.Display();\n"
   ]
  },
  {
   "cell_type": "markdown",
   "metadata": {},
   "source": [
    "O(N) in Place"
   ]
  },
  {
   "cell_type": "code",
   "execution_count": null,
   "metadata": {
    "dotnet_interactive": {
     "language": "csharp"
    }
   },
   "outputs": [],
   "source": [
    "void moveZeroes(int[] nums)\n",
    "{\n",
    "    //fast pointer is the i in the for loop\n",
    "    //this pointer keeps track of current value we are processing.\n",
    "    \n",
    "    //slow pointer\n",
    "    int lastNonZeroFoundAt = 0;\n",
    "\n",
    "    for(int i = 0;i < nums.Length; i++)\n",
    "    {\n",
    "        if(nums[i] != 0)\n",
    "        {\n",
    "            nums[lastNonZeroFoundAt] = nums[i];\n",
    "            lastNonZeroFoundAt++;\n",
    "        }\n",
    "\n",
    "    }\n",
    "\n",
    "\n",
    "    for (int i = lastNonZeroFoundAt; i < nums.Length; i++) {\n",
    "        nums[i] = 0;\n",
    "    }\n",
    "    \n",
    "}\n",
    "    "
   ]
  },
  {
   "cell_type": "code",
   "execution_count": null,
   "metadata": {
    "dotnet_interactive": {
     "language": "csharp"
    }
   },
   "outputs": [],
   "source": []
  },
  {
   "cell_type": "code",
   "execution_count": null,
   "metadata": {
    "dotnet_interactive": {
     "language": "csharp"
    }
   },
   "outputs": [],
   "source": []
  }
 ],
 "metadata": {
  "kernelspec": {
   "display_name": ".NET (C#)",
   "language": "C#",
   "name": ".net-csharp"
  },
  "language_info": {
   "name": "C#"
  }
 },
 "nbformat": 4,
 "nbformat_minor": 2
}
