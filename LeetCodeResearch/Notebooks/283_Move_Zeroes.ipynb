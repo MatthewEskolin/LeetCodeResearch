{
 "cells": [
  {
   "cell_type": "code",
   "execution_count": null,
   "metadata": {
    "dotnet_interactive": {
     "language": "csharp"
    }
   },
   "outputs": [
    {
     "ename": "Error",
     "evalue": "(14,20): error CS1525: Invalid expression term ')'\r\n(14,21): error CS1525: Invalid expression term '}'\r\n(14,21): error CS1002: ; expected",
     "output_type": "error",
     "traceback": [
      "(14,20): error CS1525: Invalid expression term ')'\r\n",
      "(14,21): error CS1525: Invalid expression term '}'\r\n",
      "(14,21): error CS1002: ; expected"
     ]
    }
   ],
   "source": [
    "        public static void MoveZeroes(int[] nums)\n",
    "        {\n",
    "            //Given an integer array nums, move all 0's to the end of it while maintaining the relative order of the non-zero elements.\n",
    "            int index2 = nums.Length - 1;\n",
    "            int index1 = nums.Length - 1;\n",
    "            \n",
    "            // for(int i = 0; i < nums.Length; i++)\n",
    "            for(int i = nums.Length - 1; i>=0;i--)\n",
    "            {\n",
    "                if(nums[i] == 0)\n",
    "                {\n",
    "                    //swap with index2 pointer\n",
    "                    \n",
    "\n",
    "\n",
    "                }\n",
    "                else\n",
    "                {\n",
    "                    continue;\n",
    "                }\n",
    "\n",
    "\n",
    "\n",
    "\n",
    "            }\n",
    "\n",
    "\n",
    "            for(int j = 0; j <= nums.Length - 1; j++)\n",
    "            {\n",
    "                int index = -1;\n",
    "                if(j + rotateNumber > nums.Length - 1)\n",
    "                {\n",
    "                    var numToEnd = nums.Length - 1 - j;\n",
    "                    index = rotateNumber - numToEnd -1;;\n",
    "                    Console.WriteLine($\"j = {j} | index = {index} | rotateNumber = {rotateNumber} | k = {k} | nums.Length = {nums.Length} | numsToEnd = {numToEnd}\");\n",
    "                }\n",
    "                else\n",
    "                {\n",
    "                    index = j + rotateNumber;\n",
    "                    \n",
    "                    Console.WriteLine($\"j = {j} | index = {index} | rotateNumber = {rotateNumber} | k = {k} | nums.Length = {nums.Length}\");\n",
    "                }\n",
    "\n",
    "\n",
    "\n",
    "                Console.WriteLine($\"Results[{index}] = {nums[j]}\");\n",
    "                results[index] = nums[j];\n",
    "                \n",
    "            }\n",
    "\n",
    "            //copy back to original array\n",
    "            for(int t = 0; t < nums.Length; t++)\n",
    "            {\n",
    "                nums[t] = results[t];\n",
    "            }\n",
    "        }\n",
    "\n",
    "        Rotate(new int[]{1,2,3},1).Display();   //3,1,2 \n",
    "        Rotate(new int[]{1,2,3},6).Display();   //2,3,1 \n",
    "\n",
    "        \n"
   ]
  },
  {
   "cell_type": "code",
   "execution_count": null,
   "metadata": {
    "dotnet_interactive": {
     "language": "csharp"
    }
   },
   "outputs": [],
   "source": []
  }
 ],
 "metadata": {
  "kernelspec": {
   "display_name": ".NET (C#)",
   "language": "C#",
   "name": ".net-csharp"
  },
  "language_info": {
   "name": "C#"
  }
 },
 "nbformat": 4,
 "nbformat_minor": 2
}
