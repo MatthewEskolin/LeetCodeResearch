{
 "cells": [
  {
   "cell_type": "markdown",
   "metadata": {
    "dotnet_interactive": {
     "language": "csharp"
    }
   },
   "source": [
    "2. Add Two Numbers\n",
    "Medium\n",
    "\n",
    "You are given two non-empty linked lists representing two non-negative integers. The digits are stored in reverse order, and each of their nodes contains a single digit. Add the two numbers and return the sum as a linked list.\n",
    "\n",
    "You may assume the two numbers do not contain any leading zero, except the number 0 itself."
   ]
  },
  {
   "cell_type": "code",
   "execution_count": null,
   "metadata": {
    "dotnet_interactive": {
     "language": "csharp"
    }
   },
   "outputs": [],
   "source": [
    "\n",
    "\n",
    "  public class ListNode {\n",
    "      public int val;\n",
    "      public ListNode next;\n",
    "      public ListNode(int val=0, ListNode next=null) {\n",
    "          this.val = val;\n",
    "          this.next = next;\n",
    "      }\n",
    "  }\n",
    " \n",
    " public class Solution {\n",
    "\n",
    "    public void testmethod()\n",
    "    {\n",
    "\n",
    "    }\n",
    "\n",
    "\n",
    "    public ListNode AddTwoNumbers(ListNode l1, ListNode l2) {\n",
    "\n",
    "\n",
    "        ListNode result = new ListNode();;\n",
    "        ListNode currentNode = result;\n",
    "\n",
    "        bool carryFlag = false;\n",
    "\n",
    "        while(l1 != null || l2 != null)\n",
    "        {\n",
    "            int x = l1?.val ?? 0;\n",
    "            int y = l2?.val ?? 0;\n",
    "            \n",
    "            int sum = x + y;\n",
    "            if(carryFlag) sum++;\n",
    "\n",
    "            //set new carryFlag\n",
    "            carryFlag = sum > 9;\n",
    "\n",
    "            currentNode.next = new ListNode(sum % 10);\n",
    "            currentNode = currentNode.next;\n",
    "\n",
    "            //advance each list to next node if not at end of list\n",
    "            if(l1 != null) l1 = l1.next;\n",
    "            if(l2 != null) l2 = l2.next;                      \n",
    "        }\n",
    "\n",
    "        //if carry flag is set after iterating all nodes, we need to add one more node to the result with a 1\n",
    "        if(carryFlag) currentNode.next = new ListNode(1);\n",
    "\n",
    "        return result.next;                \n",
    "    \n",
    "    }\n",
    "}"
   ]
  },
  {
   "cell_type": "code",
   "execution_count": null,
   "metadata": {
    "dotnet_interactive": {
     "language": "csharp"
    }
   },
   "outputs": [],
   "source": []
  },
  {
   "cell_type": "code",
   "execution_count": null,
   "metadata": {
    "dotnet_interactive": {
     "language": "csharp"
    }
   },
   "outputs": [],
   "source": []
  }
 ],
 "metadata": {
  "kernelspec": {
   "display_name": ".NET (C#)",
   "language": "C#",
   "name": ".net-csharp"
  },
  "language_info": {
   "name": "C#"
  }
 },
 "nbformat": 4,
 "nbformat_minor": 2
}
