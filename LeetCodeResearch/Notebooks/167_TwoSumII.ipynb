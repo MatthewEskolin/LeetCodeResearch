{
 "cells": [
  {
   "cell_type": "markdown",
   "metadata": {
    "dotnet_interactive": {
     "language": "csharp"
    }
   },
   "source": [
    "Given a 1-indexed array of integers numbers that is already sorted in non-decreasing order, find two numbers such that they add up to a specific target number. Let these two numbers be numbers[index1] and numbers[index2] where 1 <= index1 < index2 <= numbers.length.\n",
    "\n",
    "Return the indices of the two numbers, index1 and index2, added by one as an integer array [index1, index2] of length 2.\n",
    "\n",
    "The tests are generated such that there is exactly one solution. You may not use the same element twice.\n",
    "\n",
    "### Example 1:\n",
    "\n",
    "Input: numbers = [2,7,11,15], target = 9\n",
    "Output: [1,2]\n",
    "Explanation: The sum of 2 and 7 is 9. Therefore, index1 = 1, index2 = 2. We return [1, 2].\n",
    "\n",
    "### Example 2:\n",
    "\n",
    "Input: numbers = [2,3,4], target = 6\n",
    "Output: [1,3]\n",
    "Explanation: The sum of 2 and 4 is 6. Therefore index1 = 1, index2 = 3. We return [1, 3].\n",
    "\n",
    "### Example 3:\n",
    "\n",
    "Input: numbers = [-1,0], target = -1\n",
    "Output: [1,2]\n",
    "Explanation: The sum of -1 and 0 is -1. Therefore index1 = 1, index2 = 2. We return [1, 2].\n",
    "\n",
    "\n",
    "## Constraints\n",
    "\n",
    "2 <= numbers.length <= 3 * 104\n",
    "-1000 <= numbers[i] <= 1000\n",
    "numbers is sorted in non-decreasing order.\n",
    "-1000 <= target <= 1000\n",
    "The tests are generated such that there is exactly one solution.\n",
    "\n",
    "\n"
   ]
  },
  {
   "cell_type": "code",
   "execution_count": null,
   "metadata": {
    "dotnet_interactive": {
     "language": "csharp"
    }
   },
   "outputs": [
    {
     "data": {
      "text/html": [
       "<table><thead><tr><th><i>index</i></th><th>value</th></tr></thead><tbody><tr><td>0</td><td><div class=\"dni-plaintext\">1</div></td></tr><tr><td>1</td><td><div class=\"dni-plaintext\">2</div></td></tr></tbody></table>"
      ]
     },
     "metadata": {},
     "output_type": "display_data"
    },
    {
     "data": {
      "text/html": [
       "<table><thead><tr><th><i>index</i></th><th>value</th></tr></thead><tbody><tr><td>0</td><td><div class=\"dni-plaintext\">1</div></td></tr><tr><td>1</td><td><div class=\"dni-plaintext\">3</div></td></tr></tbody></table>"
      ]
     },
     "metadata": {},
     "output_type": "display_data"
    },
    {
     "data": {
      "text/plain": [
       "6"
      ]
     },
     "metadata": {},
     "output_type": "display_data"
    },
    {
     "data": {
      "text/html": [
       "<table><thead><tr><th><i>index</i></th><th>value</th></tr></thead><tbody><tr><td>0</td><td><div class=\"dni-plaintext\">1</div></td></tr><tr><td>1</td><td><div class=\"dni-plaintext\">2</div></td></tr></tbody></table>"
      ]
     },
     "metadata": {},
     "output_type": "display_data"
    },
    {
     "data": {
      "text/plain": [
       "-1"
      ]
     },
     "metadata": {},
     "output_type": "display_data"
    }
   ],
   "source": [
    "public static int[] TwoSum(int[] numbers, int target) {\n",
    "\n",
    "    int index_j = 0;\n",
    "    int index_k = numbers.Length - 1;\n",
    "\n",
    "    while (index_j < index_k)\n",
    "    {\n",
    "        var cur_sum = numbers[index_j] + numbers[index_k];\n",
    "\n",
    "\n",
    "        //if cur sum greater than target, decrement index_k to lower Addend value (works because numbers array is sorted non-decreasing)\n",
    "        if(cur_sum > target)\n",
    "        {\n",
    "            //fix e-mail\n",
    "            //decrement index_k            \n",
    "            index_k--;            \n",
    "        }        \n",
    "        //else if cur sum is less than the target, increment index_j to increase Augend value\n",
    "        else if(cur_sum < target)\n",
    "        {\n",
    "            index_j++;\n",
    "        }\n",
    "        //else if sum is equal to the target, return index_j + 1, index_k + 1\n",
    "        else if(cur_sum == target)\n",
    "        {\n",
    "            return new int[2]{index_j + 1, index_k + 1};\n",
    "        }\n",
    "\n",
    "    }\n",
    "\n",
    "    //no solution is found so we return an empty array\n",
    "    return new int[0];  \n",
    "        \n",
    "}\n",
    "\n",
    "//test case 1\n",
    "{\n",
    "    var case1 = new int[4]{2,7,11,15};\n",
    "    var target = 9;\n",
    "\n",
    "    TwoSum(case1,target).Display();\n",
    "\n",
    "    \"9\".Display();\n",
    "}\n",
    "\n",
    "//test case 2\n",
    "{\n",
    "    var case1 = new int[3]{2,3,4};\n",
    "    var target = 6;\n",
    "\n",
    "    TwoSum(case1,target).Display();\n",
    "    \"6\".Display();\n",
    "\n",
    "}\n",
    "\n",
    "//test case 3\n",
    "{\n",
    "    var case1 = new int[2]{-1,0};\n",
    "    var target = -1;\n",
    "\n",
    "    TwoSum(case1,target).Display();\n",
    "    \"-1\".Display();\n",
    "}\n",
    "\n",
    "\n",
    "\n",
    "\n",
    "\n",
    "\n"
   ]
  },
  {
   "cell_type": "code",
   "execution_count": null,
   "metadata": {
    "dotnet_interactive": {
     "language": "csharp"
    }
   },
   "outputs": [],
   "source": []
  }
 ],
 "metadata": {
  "kernelspec": {
   "display_name": ".NET (C#)",
   "language": "C#",
   "name": ".net-csharp"
  },
  "language_info": {
   "name": "C#"
  }
 },
 "nbformat": 4,
 "nbformat_minor": 2
}
