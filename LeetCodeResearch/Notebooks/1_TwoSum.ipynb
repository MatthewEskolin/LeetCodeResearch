{
 "cells": [
  {
   "cell_type": "markdown",
   "metadata": {
    "dotnet_interactive": {
     "language": "csharp"
    }
   },
   "source": [
    "Given an array of integers nums and an integer target, return indices of the two numbers such that they add up to target.\n",
    "\n",
    "You may assume that each input would have exactly one solution, and you may not use the same element twice.\n",
    "\n",
    "You can return the answer in any order."
   ]
  },
  {
   "cell_type": "code",
   "execution_count": null,
   "metadata": {
    "dotnet_interactive": {
     "language": "csharp"
    }
   },
   "outputs": [],
   "source": [
    "using System;\n",
    "using System.Collections.Generic;\n",
    "using System.Diagnostics;\n",
    "using System.Linq;\n",
    "using System.Net.Http;\n",
    "using System.Security.Cryptography;\n",
    "using System.Threading;\n",
    "using System.Threading.Tasks;\n",
    "using System.Web;\n",
    "\n",
    "\n",
    "\n",
    "public int[] TwoSum(int[] nums, int target)\n",
    "{\n",
    "\n",
    "        //Two Pass Hash Table\n",
    "\n",
    "        //(1)\n",
    "        //Generate Hash Table by Iterating num and storing as <Key = nums[i] -> Val = i>\n",
    "        var dict_val_index = new System.Collections.Generic.Dictionary<int, int>();\n",
    "        for(int i = 0; i < nums.Length; i++)\n",
    "        {\n",
    "            if(dict_val_index.ContainsKey(nums[i]))\n",
    "            {\n",
    "                dict_val_index[nums[i]] = i;\n",
    "            }   \n",
    "            else\n",
    "            {                        \n",
    "                dict_val_index.Add(nums[i],i);       \n",
    "            }                 \n",
    "                        \n",
    "        }\n",
    "\n",
    "        //(2)\n",
    "        //Go through the nums array again. The Key step is to pre-compute the complement and then look for it\n",
    "        for(int i = 0; i < nums.Length; i++)\n",
    "        {\n",
    "            var complement = target - nums[i];\n",
    "            \n",
    "            //must exclude current index, as we must use two values added together to get target - we can't use the same value for both addend and \n",
    "            if(dict_val_index.ContainsKey(complement) && dict_val_index[complement] != i)\n",
    "            {\n",
    "                return new int[]{i, dict_val_index[complement]};                       \n",
    "            }\n",
    "        }\n",
    "\n",
    "        return null;\n",
    "\n",
    "}\n",
    "    \n"
   ]
  },
  {
   "cell_type": "code",
   "execution_count": null,
   "metadata": {
    "dotnet_interactive": {
     "language": "csharp"
    }
   },
   "outputs": [],
   "source": []
  }
 ],
 "metadata": {
  "kernelspec": {
   "display_name": ".NET (C#)",
   "language": "C#",
   "name": ".net-csharp"
  },
  "language_info": {
   "name": "C#"
  }
 },
 "nbformat": 4,
 "nbformat_minor": 2
}
