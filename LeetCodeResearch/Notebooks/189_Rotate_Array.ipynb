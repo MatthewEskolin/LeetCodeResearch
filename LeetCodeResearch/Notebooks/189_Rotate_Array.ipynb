{
 "cells": [
  {
   "cell_type": "code",
   "execution_count": null,
   "metadata": {
    "dotnet_interactive": {
     "language": "csharp"
    }
   },
   "outputs": [
    {
     "name": "stdout",
     "output_type": "stream",
     "text": [
      "j = 0 | index = 1 | rotateNumber = 1 | k = 1 | nums.Length = 3\r\n",
      "Results[1] = 1\r\n",
      "j = 1 | index = 2 | rotateNumber = 1 | k = 1 | nums.Length = 3\r\n",
      "Results[2] = 2\r\n",
      "j = 2 | index = 0 | rotateNumber = 1 | k = 1 | nums.Length = 3 | numsToEnd = 0\r\n",
      "Results[0] = 3\r\n"
     ]
    },
    {
     "data": {
      "text/html": [
       "<table><thead><tr><th><i>index</i></th><th>value</th></tr></thead><tbody><tr><td>0</td><td><div class=\"dni-plaintext\">3</div></td></tr><tr><td>1</td><td><div class=\"dni-plaintext\">1</div></td></tr><tr><td>2</td><td><div class=\"dni-plaintext\">2</div></td></tr></tbody></table>"
      ]
     },
     "metadata": {},
     "output_type": "display_data"
    },
    {
     "name": "stdout",
     "output_type": "stream",
     "text": [
      "j = 0 | index = 0 | rotateNumber = 0 | k = 6 | nums.Length = 3\r\n",
      "Results[0] = 1\r\n",
      "j = 1 | index = 1 | rotateNumber = 0 | k = 6 | nums.Length = 3\r\n",
      "Results[1] = 2\r\n",
      "j = 2 | index = 2 | rotateNumber = 0 | k = 6 | nums.Length = 3\r\n",
      "Results[2] = 3\r\n"
     ]
    },
    {
     "data": {
      "text/html": [
       "<table><thead><tr><th><i>index</i></th><th>value</th></tr></thead><tbody><tr><td>0</td><td><div class=\"dni-plaintext\">1</div></td></tr><tr><td>1</td><td><div class=\"dni-plaintext\">2</div></td></tr><tr><td>2</td><td><div class=\"dni-plaintext\">3</div></td></tr></tbody></table>"
      ]
     },
     "metadata": {},
     "output_type": "display_data"
    }
   ],
   "source": [
    "        public static int[] Rotate(int[] nums, int k) {\n",
    "\n",
    "\n",
    "            //Method 1 - not using the 2 pointers\n",
    "            var results = new int[nums.Length];\n",
    "\n",
    "            //Calculate New Position\n",
    "            var rotateNumber = k % nums.Length;\n",
    "\n",
    "            //if \n",
    "\n",
    "            for(int j = 0; j <= nums.Length - 1; j++)\n",
    "            {\n",
    "                int index = -1;\n",
    "                if(j + rotateNumber > nums.Length - 1)\n",
    "                {\n",
    "                    var numToEnd = nums.Length - 1 - j;\n",
    "                    index = rotateNumber - numToEnd -1;;\n",
    "                    Console.WriteLine($\"j = {j} | index = {index} | rotateNumber = {rotateNumber} | k = {k} | nums.Length = {nums.Length} | numsToEnd = {numToEnd}\");\n",
    "                }\n",
    "                else\n",
    "                {\n",
    "                    index = j + rotateNumber;\n",
    "                    \n",
    "                    Console.WriteLine($\"j = {j} | index = {index} | rotateNumber = {rotateNumber} | k = {k} | nums.Length = {nums.Length}\");\n",
    "                }\n",
    "\n",
    "\n",
    "\n",
    "                Console.WriteLine($\"Results[{index}] = {nums[j]}\");\n",
    "                results[index] = nums[j];\n",
    "                \n",
    "            }\n",
    "\n",
    "            //copy back to original array\n",
    "            for(int t = 0; t < nums.Length; t++)\n",
    "            {\n",
    "                nums[t] = results[t];\n",
    "            }\n",
    "        }\n",
    "\n",
    "        Rotate(new int[]{1,2,3},1).Display();   //3,1,2 \n",
    "        Rotate(new int[]{1,2,3},6).Display();   //2,3,1 \n",
    "\n",
    "        \n"
   ]
  },
  {
   "cell_type": "code",
   "execution_count": null,
   "metadata": {
    "dotnet_interactive": {
     "language": "csharp"
    }
   },
   "outputs": [],
   "source": []
  }
 ],
 "metadata": {
  "kernelspec": {
   "display_name": ".NET (C#)",
   "language": "C#",
   "name": ".net-csharp"
  },
  "language_info": {
   "name": "C#"
  }
 },
 "nbformat": 4,
 "nbformat_minor": 2
}
